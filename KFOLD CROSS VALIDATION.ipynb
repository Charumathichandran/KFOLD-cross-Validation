{
 "cells": [
  {
   "cell_type": "code",
   "execution_count": 4,
   "id": "bb1400f1",
   "metadata": {},
   "outputs": [],
   "source": [
    "import sklearn\n",
    "from sklearn.datasets import load_iris\n",
    "df=load_iris()\n"
   ]
  },
  {
   "cell_type": "code",
   "execution_count": 5,
   "id": "ace1b63e",
   "metadata": {},
   "outputs": [],
   "source": [
    "x=df.data\n",
    "y=df.target"
   ]
  },
  {
   "cell_type": "code",
   "execution_count": 6,
   "id": "e52e0d24",
   "metadata": {},
   "outputs": [
    {
     "name": "stdout",
     "output_type": "stream",
     "text": [
      "[[5.1 3.5 1.4 0.2]\n",
      " [4.9 3.  1.4 0.2]\n",
      " [4.7 3.2 1.3 0.2]\n",
      " [4.6 3.1 1.5 0.2]\n",
      " [5.  3.6 1.4 0.2]\n",
      " [5.4 3.9 1.7 0.4]\n",
      " [4.6 3.4 1.4 0.3]\n",
      " [5.  3.4 1.5 0.2]\n",
      " [4.4 2.9 1.4 0.2]\n",
      " [4.9 3.1 1.5 0.1]\n",
      " [5.4 3.7 1.5 0.2]\n",
      " [4.8 3.4 1.6 0.2]\n",
      " [4.8 3.  1.4 0.1]\n",
      " [4.3 3.  1.1 0.1]\n",
      " [5.8 4.  1.2 0.2]\n",
      " [5.7 4.4 1.5 0.4]\n",
      " [5.4 3.9 1.3 0.4]\n",
      " [5.1 3.5 1.4 0.3]\n",
      " [5.7 3.8 1.7 0.3]\n",
      " [5.1 3.8 1.5 0.3]\n",
      " [5.4 3.4 1.7 0.2]\n",
      " [5.1 3.7 1.5 0.4]\n",
      " [4.6 3.6 1.  0.2]\n",
      " [5.1 3.3 1.7 0.5]\n",
      " [4.8 3.4 1.9 0.2]\n",
      " [5.  3.  1.6 0.2]\n",
      " [5.  3.4 1.6 0.4]\n",
      " [5.2 3.5 1.5 0.2]\n",
      " [5.2 3.4 1.4 0.2]\n",
      " [4.7 3.2 1.6 0.2]\n",
      " [4.8 3.1 1.6 0.2]\n",
      " [5.4 3.4 1.5 0.4]\n",
      " [5.2 4.1 1.5 0.1]\n",
      " [5.5 4.2 1.4 0.2]\n",
      " [4.9 3.1 1.5 0.2]\n",
      " [5.  3.2 1.2 0.2]\n",
      " [5.5 3.5 1.3 0.2]\n",
      " [4.9 3.6 1.4 0.1]\n",
      " [4.4 3.  1.3 0.2]\n",
      " [5.1 3.4 1.5 0.2]\n",
      " [5.  3.5 1.3 0.3]\n",
      " [4.5 2.3 1.3 0.3]\n",
      " [4.4 3.2 1.3 0.2]\n",
      " [5.  3.5 1.6 0.6]\n",
      " [5.1 3.8 1.9 0.4]\n",
      " [4.8 3.  1.4 0.3]\n",
      " [5.1 3.8 1.6 0.2]\n",
      " [4.6 3.2 1.4 0.2]\n",
      " [5.3 3.7 1.5 0.2]\n",
      " [5.  3.3 1.4 0.2]\n",
      " [7.  3.2 4.7 1.4]\n",
      " [6.4 3.2 4.5 1.5]\n",
      " [6.9 3.1 4.9 1.5]\n",
      " [5.5 2.3 4.  1.3]\n",
      " [6.5 2.8 4.6 1.5]\n",
      " [5.7 2.8 4.5 1.3]\n",
      " [6.3 3.3 4.7 1.6]\n",
      " [4.9 2.4 3.3 1. ]\n",
      " [6.6 2.9 4.6 1.3]\n",
      " [5.2 2.7 3.9 1.4]\n",
      " [5.  2.  3.5 1. ]\n",
      " [5.9 3.  4.2 1.5]\n",
      " [6.  2.2 4.  1. ]\n",
      " [6.1 2.9 4.7 1.4]\n",
      " [5.6 2.9 3.6 1.3]\n",
      " [6.7 3.1 4.4 1.4]\n",
      " [5.6 3.  4.5 1.5]\n",
      " [5.8 2.7 4.1 1. ]\n",
      " [6.2 2.2 4.5 1.5]\n",
      " [5.6 2.5 3.9 1.1]\n",
      " [5.9 3.2 4.8 1.8]\n",
      " [6.1 2.8 4.  1.3]\n",
      " [6.3 2.5 4.9 1.5]\n",
      " [6.1 2.8 4.7 1.2]\n",
      " [6.4 2.9 4.3 1.3]\n",
      " [6.6 3.  4.4 1.4]\n",
      " [6.8 2.8 4.8 1.4]\n",
      " [6.7 3.  5.  1.7]\n",
      " [6.  2.9 4.5 1.5]\n",
      " [5.7 2.6 3.5 1. ]\n",
      " [5.5 2.4 3.8 1.1]\n",
      " [5.5 2.4 3.7 1. ]\n",
      " [5.8 2.7 3.9 1.2]\n",
      " [6.  2.7 5.1 1.6]\n",
      " [5.4 3.  4.5 1.5]\n",
      " [6.  3.4 4.5 1.6]\n",
      " [6.7 3.1 4.7 1.5]\n",
      " [6.3 2.3 4.4 1.3]\n",
      " [5.6 3.  4.1 1.3]\n",
      " [5.5 2.5 4.  1.3]\n",
      " [5.5 2.6 4.4 1.2]\n",
      " [6.1 3.  4.6 1.4]\n",
      " [5.8 2.6 4.  1.2]\n",
      " [5.  2.3 3.3 1. ]\n",
      " [5.6 2.7 4.2 1.3]\n",
      " [5.7 3.  4.2 1.2]\n",
      " [5.7 2.9 4.2 1.3]\n",
      " [6.2 2.9 4.3 1.3]\n",
      " [5.1 2.5 3.  1.1]\n",
      " [5.7 2.8 4.1 1.3]\n",
      " [6.3 3.3 6.  2.5]\n",
      " [5.8 2.7 5.1 1.9]\n",
      " [7.1 3.  5.9 2.1]\n",
      " [6.3 2.9 5.6 1.8]\n",
      " [6.5 3.  5.8 2.2]\n",
      " [7.6 3.  6.6 2.1]\n",
      " [4.9 2.5 4.5 1.7]\n",
      " [7.3 2.9 6.3 1.8]\n",
      " [6.7 2.5 5.8 1.8]\n",
      " [7.2 3.6 6.1 2.5]\n",
      " [6.5 3.2 5.1 2. ]\n",
      " [6.4 2.7 5.3 1.9]\n",
      " [6.8 3.  5.5 2.1]\n",
      " [5.7 2.5 5.  2. ]\n",
      " [5.8 2.8 5.1 2.4]\n",
      " [6.4 3.2 5.3 2.3]\n",
      " [6.5 3.  5.5 1.8]\n",
      " [7.7 3.8 6.7 2.2]\n",
      " [7.7 2.6 6.9 2.3]\n",
      " [6.  2.2 5.  1.5]\n",
      " [6.9 3.2 5.7 2.3]\n",
      " [5.6 2.8 4.9 2. ]\n",
      " [7.7 2.8 6.7 2. ]\n",
      " [6.3 2.7 4.9 1.8]\n",
      " [6.7 3.3 5.7 2.1]\n",
      " [7.2 3.2 6.  1.8]\n",
      " [6.2 2.8 4.8 1.8]\n",
      " [6.1 3.  4.9 1.8]\n",
      " [6.4 2.8 5.6 2.1]\n",
      " [7.2 3.  5.8 1.6]\n",
      " [7.4 2.8 6.1 1.9]\n",
      " [7.9 3.8 6.4 2. ]\n",
      " [6.4 2.8 5.6 2.2]\n",
      " [6.3 2.8 5.1 1.5]\n",
      " [6.1 2.6 5.6 1.4]\n",
      " [7.7 3.  6.1 2.3]\n",
      " [6.3 3.4 5.6 2.4]\n",
      " [6.4 3.1 5.5 1.8]\n",
      " [6.  3.  4.8 1.8]\n",
      " [6.9 3.1 5.4 2.1]\n",
      " [6.7 3.1 5.6 2.4]\n",
      " [6.9 3.1 5.1 2.3]\n",
      " [5.8 2.7 5.1 1.9]\n",
      " [6.8 3.2 5.9 2.3]\n",
      " [6.7 3.3 5.7 2.5]\n",
      " [6.7 3.  5.2 2.3]\n",
      " [6.3 2.5 5.  1.9]\n",
      " [6.5 3.  5.2 2. ]\n",
      " [6.2 3.4 5.4 2.3]\n",
      " [5.9 3.  5.1 1.8]]\n"
     ]
    }
   ],
   "source": [
    "print(x)"
   ]
  },
  {
   "cell_type": "code",
   "execution_count": 7,
   "id": "fd6b5e29",
   "metadata": {},
   "outputs": [
    {
     "name": "stdout",
     "output_type": "stream",
     "text": [
      "[0 0 0 0 0 0 0 0 0 0 0 0 0 0 0 0 0 0 0 0 0 0 0 0 0 0 0 0 0 0 0 0 0 0 0 0 0\n",
      " 0 0 0 0 0 0 0 0 0 0 0 0 0 1 1 1 1 1 1 1 1 1 1 1 1 1 1 1 1 1 1 1 1 1 1 1 1\n",
      " 1 1 1 1 1 1 1 1 1 1 1 1 1 1 1 1 1 1 1 1 1 1 1 1 1 1 2 2 2 2 2 2 2 2 2 2 2\n",
      " 2 2 2 2 2 2 2 2 2 2 2 2 2 2 2 2 2 2 2 2 2 2 2 2 2 2 2 2 2 2 2 2 2 2 2 2 2\n",
      " 2 2]\n"
     ]
    }
   ],
   "source": [
    "print(y)"
   ]
  },
  {
   "cell_type": "code",
   "execution_count": 30,
   "id": "c4f8d769",
   "metadata": {},
   "outputs": [],
   "source": [
    "import warnings\n",
    "warnings.filterwarnings(\"ignore\")"
   ]
  },
  {
   "cell_type": "code",
   "execution_count": 8,
   "id": "9032b968",
   "metadata": {},
   "outputs": [],
   "source": [
    "from sklearn.model_selection import train_test_split\n",
    "x_train,x_test,y_train,y_test=train_test_split(x,y,test_size=0.30,random_state=None)"
   ]
  },
  {
   "cell_type": "code",
   "execution_count": 31,
   "id": "c0b71adf",
   "metadata": {},
   "outputs": [
    {
     "data": {
      "text/html": [
       "<style>#sk-container-id-2 {color: black;background-color: white;}#sk-container-id-2 pre{padding: 0;}#sk-container-id-2 div.sk-toggleable {background-color: white;}#sk-container-id-2 label.sk-toggleable__label {cursor: pointer;display: block;width: 100%;margin-bottom: 0;padding: 0.3em;box-sizing: border-box;text-align: center;}#sk-container-id-2 label.sk-toggleable__label-arrow:before {content: \"▸\";float: left;margin-right: 0.25em;color: #696969;}#sk-container-id-2 label.sk-toggleable__label-arrow:hover:before {color: black;}#sk-container-id-2 div.sk-estimator:hover label.sk-toggleable__label-arrow:before {color: black;}#sk-container-id-2 div.sk-toggleable__content {max-height: 0;max-width: 0;overflow: hidden;text-align: left;background-color: #f0f8ff;}#sk-container-id-2 div.sk-toggleable__content pre {margin: 0.2em;color: black;border-radius: 0.25em;background-color: #f0f8ff;}#sk-container-id-2 input.sk-toggleable__control:checked~div.sk-toggleable__content {max-height: 200px;max-width: 100%;overflow: auto;}#sk-container-id-2 input.sk-toggleable__control:checked~label.sk-toggleable__label-arrow:before {content: \"▾\";}#sk-container-id-2 div.sk-estimator input.sk-toggleable__control:checked~label.sk-toggleable__label {background-color: #d4ebff;}#sk-container-id-2 div.sk-label input.sk-toggleable__control:checked~label.sk-toggleable__label {background-color: #d4ebff;}#sk-container-id-2 input.sk-hidden--visually {border: 0;clip: rect(1px 1px 1px 1px);clip: rect(1px, 1px, 1px, 1px);height: 1px;margin: -1px;overflow: hidden;padding: 0;position: absolute;width: 1px;}#sk-container-id-2 div.sk-estimator {font-family: monospace;background-color: #f0f8ff;border: 1px dotted black;border-radius: 0.25em;box-sizing: border-box;margin-bottom: 0.5em;}#sk-container-id-2 div.sk-estimator:hover {background-color: #d4ebff;}#sk-container-id-2 div.sk-parallel-item::after {content: \"\";width: 100%;border-bottom: 1px solid gray;flex-grow: 1;}#sk-container-id-2 div.sk-label:hover label.sk-toggleable__label {background-color: #d4ebff;}#sk-container-id-2 div.sk-serial::before {content: \"\";position: absolute;border-left: 1px solid gray;box-sizing: border-box;top: 0;bottom: 0;left: 50%;z-index: 0;}#sk-container-id-2 div.sk-serial {display: flex;flex-direction: column;align-items: center;background-color: white;padding-right: 0.2em;padding-left: 0.2em;position: relative;}#sk-container-id-2 div.sk-item {position: relative;z-index: 1;}#sk-container-id-2 div.sk-parallel {display: flex;align-items: stretch;justify-content: center;background-color: white;position: relative;}#sk-container-id-2 div.sk-item::before, #sk-container-id-2 div.sk-parallel-item::before {content: \"\";position: absolute;border-left: 1px solid gray;box-sizing: border-box;top: 0;bottom: 0;left: 50%;z-index: -1;}#sk-container-id-2 div.sk-parallel-item {display: flex;flex-direction: column;z-index: 1;position: relative;background-color: white;}#sk-container-id-2 div.sk-parallel-item:first-child::after {align-self: flex-end;width: 50%;}#sk-container-id-2 div.sk-parallel-item:last-child::after {align-self: flex-start;width: 50%;}#sk-container-id-2 div.sk-parallel-item:only-child::after {width: 0;}#sk-container-id-2 div.sk-dashed-wrapped {border: 1px dashed gray;margin: 0 0.4em 0.5em 0.4em;box-sizing: border-box;padding-bottom: 0.4em;background-color: white;}#sk-container-id-2 div.sk-label label {font-family: monospace;font-weight: bold;display: inline-block;line-height: 1.2em;}#sk-container-id-2 div.sk-label-container {text-align: center;}#sk-container-id-2 div.sk-container {/* jupyter's `normalize.less` sets `[hidden] { display: none; }` but bootstrap.min.css set `[hidden] { display: none !important; }` so we also need the `!important` here to be able to override the default hidden behavior on the sphinx rendered scikit-learn.org. See: https://github.com/scikit-learn/scikit-learn/issues/21755 */display: inline-block !important;position: relative;}#sk-container-id-2 div.sk-text-repr-fallback {display: none;}</style><div id=\"sk-container-id-2\" class=\"sk-top-container\"><div class=\"sk-text-repr-fallback\"><pre>LogisticRegression()</pre><b>In a Jupyter environment, please rerun this cell to show the HTML representation or trust the notebook. <br />On GitHub, the HTML representation is unable to render, please try loading this page with nbviewer.org.</b></div><div class=\"sk-container\" hidden><div class=\"sk-item\"><div class=\"sk-estimator sk-toggleable\"><input class=\"sk-toggleable__control sk-hidden--visually\" id=\"sk-estimator-id-2\" type=\"checkbox\" checked><label for=\"sk-estimator-id-2\" class=\"sk-toggleable__label sk-toggleable__label-arrow\">LogisticRegression</label><div class=\"sk-toggleable__content\"><pre>LogisticRegression()</pre></div></div></div></div></div>"
      ],
      "text/plain": [
       "LogisticRegression()"
      ]
     },
     "execution_count": 31,
     "metadata": {},
     "output_type": "execute_result"
    }
   ],
   "source": [
    "#CLASSIFICATION\n",
    "from sklearn.linear_model import LogisticRegression\n",
    "model=LogisticRegression()\n",
    "model.fit(x_train,y_train)"
   ]
  },
  {
   "cell_type": "code",
   "execution_count": 10,
   "id": "85f08864",
   "metadata": {},
   "outputs": [],
   "source": [
    "y_pred=model.predict(x_test)"
   ]
  },
  {
   "cell_type": "code",
   "execution_count": 11,
   "id": "33cfdbd0",
   "metadata": {},
   "outputs": [
    {
     "data": {
      "text/plain": [
       "0.9555555555555556"
      ]
     },
     "execution_count": 11,
     "metadata": {},
     "output_type": "execute_result"
    }
   ],
   "source": [
    "from sklearn.metrics import accuracy_score\n",
    "accuracy_score(y_pred,y_test)"
   ]
  },
  {
   "cell_type": "code",
   "execution_count": 12,
   "id": "2509b3f5",
   "metadata": {},
   "outputs": [
    {
     "data": {
      "text/plain": [
       "array([[12,  0,  0],\n",
       "       [ 0, 12,  0],\n",
       "       [ 0,  2, 19]], dtype=int64)"
      ]
     },
     "execution_count": 12,
     "metadata": {},
     "output_type": "execute_result"
    }
   ],
   "source": [
    "from sklearn.metrics import confusion_matrix\n",
    "confusion_matrix(y_pred,y_test)"
   ]
  },
  {
   "cell_type": "markdown",
   "id": "9c38973d",
   "metadata": {},
   "source": [
    "### IMPROVING ACCURACY USING PCA"
   ]
  },
  {
   "cell_type": "code",
   "execution_count": 13,
   "id": "80e9448e",
   "metadata": {},
   "outputs": [
    {
     "name": "stdout",
     "output_type": "stream",
     "text": [
      "(105, 2)\n"
     ]
    }
   ],
   "source": [
    "from sklearn.decomposition import PCA\n",
    "pca=PCA(n_components=0.95)\n",
    "#usually pca id done only for x which give 95%of the quality of the data\n",
    "pca.fit(x_train)\n",
    "x_train_transformed=pca.transform(x_train)\n",
    "print(x_train_transformed.shape)"
   ]
  },
  {
   "cell_type": "code",
   "execution_count": 14,
   "id": "ebb19ea5",
   "metadata": {},
   "outputs": [
    {
     "data": {
      "text/plain": [
       "array([[ 0.31555825, -0.6627305 ],\n",
       "       [-0.15462199, -0.35336281],\n",
       "       [-2.24371968,  1.35641809],\n",
       "       [-2.39923452,  0.45037513],\n",
       "       [ 1.04956763,  0.34592919],\n",
       "       [-2.47821816,  0.17696605],\n",
       "       [ 1.59467363, -0.12423299],\n",
       "       [-2.39181524,  0.51927843],\n",
       "       [ 1.23778067,  0.09260547],\n",
       "       [ 0.28608531, -0.29653593],\n",
       "       [ 3.54760256,  0.57162249],\n",
       "       [ 0.33352653, -0.81000096],\n",
       "       [-2.49135574,  0.32449276],\n",
       "       [-2.16073793,  0.40270773],\n",
       "       [ 0.4805488 , -0.19271343],\n",
       "       [ 0.3810083 , -0.3874991 ],\n",
       "       [-2.52243409, -0.10274104],\n",
       "       [ 3.2238444 ,  0.71076556],\n",
       "       [ 1.44974836, -0.31048281],\n",
       "       [ 0.42021069, -0.53924525],\n",
       "       [ 1.19566174,  0.24393609],\n",
       "       [-2.5019728 ,  0.32673061],\n",
       "       [-2.44181753,  0.24206544],\n",
       "       [ 3.08526512,  0.3735669 ],\n",
       "       [-2.55517287,  0.12065875],\n",
       "       [ 0.65765321, -0.08140866],\n",
       "       [-2.2621926 ,  0.20808134],\n",
       "       [ 1.93476716, -0.48204391],\n",
       "       [ 1.09654476, -0.52717615],\n",
       "       [ 2.99353992,  0.39338893],\n",
       "       [ 1.90928404,  0.10441832],\n",
       "       [-2.43812817, -0.19146636],\n",
       "       [-2.8325631 , -0.47351534],\n",
       "       [-0.59973648, -0.98677251],\n",
       "       [ 1.36956837,  0.42638201],\n",
       "       [-2.32274389,  0.14704211],\n",
       "       [-2.69850578, -0.93016058],\n",
       "       [ 2.04515711,  0.15036745],\n",
       "       [ 0.66591952, -1.16515851],\n",
       "       [-2.35634276, -0.13490282],\n",
       "       [-0.03757729, -0.66548792],\n",
       "       [ 1.48409255,  0.25954576],\n",
       "       [-2.2630802 ,  0.4247676 ],\n",
       "       [ 1.52922358, -0.39946439],\n",
       "       [ 1.45343772, -0.74401461],\n",
       "       [ 1.07698412,  0.48466381],\n",
       "       [ 2.11968686, -0.15613144],\n",
       "       [ 2.76402747,  0.3674211 ],\n",
       "       [ 0.08312927, -0.68911386],\n",
       "       [-2.59686828, -0.3043372 ],\n",
       "       [ 0.5058683 , -0.48501652],\n",
       "       [ 3.65314261,  0.47842148],\n",
       "       [ 2.54065069,  0.48133842],\n",
       "       [ 1.13436513, -0.10518679],\n",
       "       [ 1.56072546, -0.54855717],\n",
       "       [ 2.28337245,  0.17425672],\n",
       "       [ 1.53540596, -0.25625408],\n",
       "       [-2.56625401, -0.23674372],\n",
       "       [ 2.49445254, -0.0121453 ],\n",
       "       [ 2.55866568,  0.33739311],\n",
       "       [ 2.08638845,  0.21572309],\n",
       "       [-2.73764012, -0.56447851],\n",
       "       [-2.48766638, -0.10903904],\n",
       "       [-0.02773306, -0.23377844],\n",
       "       [ 0.96085452, -0.14192831],\n",
       "       [-2.46508058,  0.02943933],\n",
       "       [ 1.24076527,  0.30695691],\n",
       "       [ 1.53608322, -0.18210635],\n",
       "       [ 0.73346657, -0.45888941],\n",
       "       [ 2.67087968,  0.02501174],\n",
       "       [-2.1361232 ,  0.75828789],\n",
       "       [ 2.47310365, -0.22493068],\n",
       "       [-2.58212528,  0.34156445],\n",
       "       [ 0.95070154,  0.21994985],\n",
       "       [ 1.34183007, -0.57676284],\n",
       "       [-2.56462109, -0.16534633],\n",
       "       [-3.0714832 ,  0.15047864],\n",
       "       [-2.35956804,  0.6582693 ],\n",
       "       [ 3.05747182,  0.814484  ],\n",
       "       [ 2.70639272,  0.30679739],\n",
       "       [ 0.13721694, -0.69972827],\n",
       "       [-2.41440103,  0.38080006],\n",
       "       [ 1.07381384, -0.16622602],\n",
       "       [-2.45402695,  1.10887278],\n",
       "       [ 0.38842758, -0.3185958 ],\n",
       "       [ 0.79110133, -0.39826571],\n",
       "       [ 0.50700964, -0.05122847],\n",
       "       [-2.05270487,  0.88624883],\n",
       "       [ 0.79224267,  0.03552234],\n",
       "       [-2.39596867,  0.59316991],\n",
       "       [ 3.37828595,  1.39695638],\n",
       "       [-2.63578943, -0.22414772],\n",
       "       [-2.85053138, -0.32624488],\n",
       "       [-0.5543517 , -0.99530835],\n",
       "       [ 1.95100695, -0.19261671],\n",
       "       [-0.75896817, -0.73725269],\n",
       "       [ 2.05218037,  0.07356635],\n",
       "       [ 1.31399006, -0.13917088],\n",
       "       [ 3.94729172,  0.27760114],\n",
       "       [-2.69179127, -0.21337404],\n",
       "       [ 0.96848698, -0.3585176 ],\n",
       "       [-2.49873446,  1.19155636],\n",
       "       [-2.44298637,  0.53030836],\n",
       "       [-3.07560914, -0.49766086],\n",
       "       [-2.53674051,  0.33302861]])"
      ]
     },
     "execution_count": 14,
     "metadata": {},
     "output_type": "execute_result"
    }
   ],
   "source": [
    "x_train_transformed"
   ]
  },
  {
   "cell_type": "code",
   "execution_count": 15,
   "id": "3d19f150",
   "metadata": {},
   "outputs": [
    {
     "name": "stdout",
     "output_type": "stream",
     "text": [
      "(45, 2)\n"
     ]
    }
   ],
   "source": [
    "from sklearn.decomposition import PCA\n",
    "pca=PCA(n_components=0.95)\n",
    "#usually pca id done only for x which give 95%of the quality of the data\n",
    "pca.fit(x_test)\n",
    "x_test_transformed=pca.transform(x_test)\n",
    "print(x_test_transformed.shape)"
   ]
  },
  {
   "cell_type": "code",
   "execution_count": 16,
   "id": "9393ff67",
   "metadata": {},
   "outputs": [
    {
     "data": {
      "text/plain": [
       "array([[-0.5412438 ,  0.0662886 ],\n",
       "       [-0.11395436,  0.69862481],\n",
       "       [ 3.14818424, -0.21947443],\n",
       "       [-1.78002127,  0.25331346],\n",
       "       [-1.82134437, -0.17756187],\n",
       "       [-1.25521715,  0.62186157],\n",
       "       [ 0.30523526,  0.60368424],\n",
       "       [-1.1111094 , -0.49160726],\n",
       "       [ 2.97333237, -0.56700413],\n",
       "       [-1.8179923 ,  0.26604548],\n",
       "       [-1.93139386, -0.28391558],\n",
       "       [-1.58485656, -0.35663355],\n",
       "       [-0.36328973, -0.13324973],\n",
       "       [ 2.96542009, -0.75045432],\n",
       "       [ 0.09981612,  0.31505097],\n",
       "       [ 3.11350295, -0.20998384],\n",
       "       [ 3.23405785,  0.19218601],\n",
       "       [-1.07346237,  0.62764444],\n",
       "       [-0.94809629,  0.166893  ],\n",
       "       [-1.97651823, -0.12339235],\n",
       "       [ 2.97908948,  0.24186233],\n",
       "       [-1.56612558, -0.03328257],\n",
       "       [-1.20888464, -0.24242617],\n",
       "       [ 2.99681165, -0.75670347],\n",
       "       [ 2.64577401, -0.04825642],\n",
       "       [-1.18281525,  0.40568334],\n",
       "       [-1.00701635,  0.83156128],\n",
       "       [-2.08669293, -0.32672388],\n",
       "       [-0.93068741, -0.67575745],\n",
       "       [-1.32032982, -0.18884197],\n",
       "       [ 3.16292641,  0.15144852],\n",
       "       [-0.77564946,  0.14916359],\n",
       "       [-1.76388287, -0.33242127],\n",
       "       [-0.02890202,  0.33219506],\n",
       "       [-0.58490961, -0.28299706],\n",
       "       [ 2.55426796, -0.37508575],\n",
       "       [-1.60054631, -0.00918497],\n",
       "       [ 3.21216234, -0.03094572],\n",
       "       [ 0.85643222,  1.2850779 ],\n",
       "       [-0.31608377,  0.40675011],\n",
       "       [ 0.04798707,  0.38507926],\n",
       "       [-3.13504083, -1.14138721],\n",
       "       [ 2.70469352,  0.08379506],\n",
       "       [-0.91493589,  0.22036252],\n",
       "       [-2.25869111, -0.54728061]])"
      ]
     },
     "execution_count": 16,
     "metadata": {},
     "output_type": "execute_result"
    }
   ],
   "source": [
    "x_test_transformed"
   ]
  },
  {
   "cell_type": "code",
   "execution_count": 17,
   "id": "5cad6585",
   "metadata": {},
   "outputs": [],
   "source": [
    "#new_model=LogisticRegression(penalty='l1',solver='liblinear')\n",
    "#new_model.fit(x_train_transformed,y_train)\n",
    "#new_prediction=new_model.predict(x_test_transformed)"
   ]
  },
  {
   "cell_type": "code",
   "execution_count": 18,
   "id": "3c78dca6",
   "metadata": {},
   "outputs": [],
   "source": [
    "#fom sklearn.metrics import accuracy_score\n",
    "#newaccuracy=accuracy_score(new_prediction,y_test)\n",
    "#new_curacy"
   ]
  },
  {
   "cell_type": "code",
   "execution_count": 19,
   "id": "b0f8eee4",
   "metadata": {},
   "outputs": [],
   "source": [
    "from sklearn import model_selection\n",
    "from sklearn.linear_model import LogisticRegression\n",
    "from sklearn.tree import DecisionTreeClassifier\n",
    "from sklearn.neighbors import KNeighborsClassifier\n",
    "from sklearn.discriminant_analysis import LinearDiscriminantAnalysis\n",
    "from sklearn.naive_bayes import GaussianNB\n",
    "from sklearn.svm import SVC\n",
    "from sklearn.ensemble import RandomForestClassifier\n",
    "from sklearn.model_selection import KFold"
   ]
  },
  {
   "cell_type": "code",
   "execution_count": 20,
   "id": "1a02b260",
   "metadata": {},
   "outputs": [],
   "source": [
    "models=[]\n",
    "models.append(('LR',LogisticRegression()))\n",
    "models.append(('LDA',LinearDiscriminantAnalysis()))\n",
    "models.append(('KNN',KNeighborsClassifier()))\n",
    "models.append(('CART',DecisionTreeClassifier()))\n",
    "models.append(('NB',GaussianNB()))\n",
    "models.append(('SVM',SVC()))\n",
    "models.append(('RF',RandomForestClassifier()))\n",
    "\n"
   ]
  },
  {
   "cell_type": "code",
   "execution_count": 32,
   "id": "398b638f",
   "metadata": {},
   "outputs": [
    {
     "name": "stdout",
     "output_type": "stream",
     "text": [
      "LR: 0.972727 (0.058210)\n",
      "LDA: 0.971818 (0.043112)\n",
      "KNN: 0.944545 (0.060909)\n",
      "CART: 0.945455 (0.083320)\n",
      "NB: 0.934545 (0.074168)\n",
      "SVM: 0.943636 (0.061496)\n",
      "RF: 0.936364 (0.081818)\n"
     ]
    }
   ],
   "source": [
    "results=[]\n",
    "names=[]\n",
    "scoring=\"accuracy\"\n",
    "for name,model in models:\n",
    "    kfold=model_selection.KFold(n_splits=10,random_state=None)\n",
    "    cv_results=model_selection.cross_val_score(model,x_train,y_train,cv=kfold,scoring=scoring)\n",
    "    results.append(cv_results)\n",
    "    names.append(names)\n",
    "    msg= \"%s: %f (%f)\" % (name,cv_results.mean(),cv_results.std())\n",
    "    print(msg)\n",
    "    "
   ]
  },
  {
   "cell_type": "code",
   "execution_count": 23,
   "id": "b4c864d7",
   "metadata": {},
   "outputs": [
    {
     "data": {
      "text/plain": [
       "array([1, 1, 0, 2, 2, 2, 1, 1, 0, 2, 2, 2, 1, 0, 1, 0, 0, 2, 2, 2, 0, 2,\n",
       "       2, 0, 0, 2, 2, 2, 1, 2, 0, 1, 2, 1, 1, 0, 2, 0, 1, 1, 1, 2, 0, 2,\n",
       "       2])"
      ]
     },
     "execution_count": 23,
     "metadata": {},
     "output_type": "execute_result"
    }
   ],
   "source": [
    "knn=KNeighborsClassifier()\n",
    "knn.fit(x_train,y_train)\n",
    "predictions=knn.predict(x_test)\n",
    "predictions\n"
   ]
  },
  {
   "cell_type": "code",
   "execution_count": 33,
   "id": "cbe35a17",
   "metadata": {},
   "outputs": [
    {
     "data": {
      "text/plain": [
       "0.9555555555555556"
      ]
     },
     "execution_count": 33,
     "metadata": {},
     "output_type": "execute_result"
    }
   ],
   "source": [
    "from sklearn.metrics import accuracy_score\n",
    "accuracy_score(y_pred,y_test)"
   ]
  },
  {
   "cell_type": "code",
   "execution_count": 34,
   "id": "d597a8a9",
   "metadata": {},
   "outputs": [
    {
     "name": "stdout",
     "output_type": "stream",
     "text": [
      "              precision    recall  f1-score   support\n",
      "\n",
      "           0       1.00      1.00      1.00        12\n",
      "           1       0.86      1.00      0.92        12\n",
      "           2       1.00      0.90      0.95        21\n",
      "\n",
      "    accuracy                           0.96        45\n",
      "   macro avg       0.95      0.97      0.96        45\n",
      "weighted avg       0.96      0.96      0.96        45\n",
      "\n"
     ]
    }
   ],
   "source": [
    "from sklearn.metrics import classification_report\n",
    "print(classification_report(y_pred,y_test))"
   ]
  },
  {
   "cell_type": "code",
   "execution_count": 35,
   "id": "2a0eb5fe",
   "metadata": {},
   "outputs": [
    {
     "data": {
      "text/plain": [
       "array([[12,  0,  0],\n",
       "       [ 0, 12,  0],\n",
       "       [ 0,  2, 19]], dtype=int64)"
      ]
     },
     "execution_count": 35,
     "metadata": {},
     "output_type": "execute_result"
    }
   ],
   "source": [
    "from sklearn.metrics import confusion_matrix\n",
    "confusion_matrix(y_pred,y_test)"
   ]
  }
 ],
 "metadata": {
  "kernelspec": {
   "display_name": "Python 3 (ipykernel)",
   "language": "python",
   "name": "python3"
  },
  "language_info": {
   "codemirror_mode": {
    "name": "ipython",
    "version": 3
   },
   "file_extension": ".py",
   "mimetype": "text/x-python",
   "name": "python",
   "nbconvert_exporter": "python",
   "pygments_lexer": "ipython3",
   "version": "3.9.7"
  }
 },
 "nbformat": 4,
 "nbformat_minor": 5
}
